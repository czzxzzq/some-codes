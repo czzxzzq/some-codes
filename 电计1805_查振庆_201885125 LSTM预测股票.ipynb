{
 "cells": [
  {
   "cell_type": "code",
   "execution_count": 64,
   "metadata": {},
   "outputs": [],
   "source": [
    "###################################第一部分########################################"
   ]
  },
  {
   "cell_type": "code",
   "execution_count": 65,
   "metadata": {},
   "outputs": [],
   "source": [
    "import pandas_datareader as pdr  #利用pandas_datareader库获取苹果公司的最新股票信息\n",
    "import pandas as pd              #利用pandas库将苹果公司的股票信息保存在EXCEL里面"
   ]
  },
  {
   "cell_type": "code",
   "execution_count": 66,
   "metadata": {},
   "outputs": [],
   "source": [
    "#调用股票市场工具ttingo的API，获取信息\n",
    "df=pdr.get_data_tiingo('AAPL',api_key='3bf49d7c00d719c5151350b494f0a992eb31a7b8') \n",
    "df.to_csv('AAPL.csv')   #转换为excel文件，保存\n",
    "df=pd.read_csv('AAPL.csv') #将对应的excel文件读取出来"
   ]
  },
  {
   "cell_type": "code",
   "execution_count": 67,
   "metadata": {},
   "outputs": [],
   "source": [
    "######################################################################################\n",
    "######################################################################################\n",
    "#测试代码，用以观测股票数据的规模和具体信息，便于接下来提取有用信息，进行训练"
   ]
  },
  {
   "cell_type": "code",
   "execution_count": 68,
   "metadata": {
    "scrolled": false
   },
   "outputs": [
    {
     "data": {
      "text/html": [
       "<div>\n",
       "<style scoped>\n",
       "    .dataframe tbody tr th:only-of-type {\n",
       "        vertical-align: middle;\n",
       "    }\n",
       "\n",
       "    .dataframe tbody tr th {\n",
       "        vertical-align: top;\n",
       "    }\n",
       "\n",
       "    .dataframe thead th {\n",
       "        text-align: right;\n",
       "    }\n",
       "</style>\n",
       "<table border=\"1\" class=\"dataframe\">\n",
       "  <thead>\n",
       "    <tr style=\"text-align: right;\">\n",
       "      <th></th>\n",
       "      <th>symbol</th>\n",
       "      <th>date</th>\n",
       "      <th>close</th>\n",
       "      <th>high</th>\n",
       "      <th>low</th>\n",
       "      <th>open</th>\n",
       "      <th>volume</th>\n",
       "      <th>adjClose</th>\n",
       "      <th>adjHigh</th>\n",
       "      <th>adjLow</th>\n",
       "      <th>adjOpen</th>\n",
       "      <th>adjVolume</th>\n",
       "      <th>divCash</th>\n",
       "      <th>splitFactor</th>\n",
       "    </tr>\n",
       "  </thead>\n",
       "  <tbody>\n",
       "    <tr>\n",
       "      <th>0</th>\n",
       "      <td>AAPL</td>\n",
       "      <td>2015-11-10 00:00:00+00:00</td>\n",
       "      <td>116.770</td>\n",
       "      <td>118.07</td>\n",
       "      <td>116.061</td>\n",
       "      <td>116.90</td>\n",
       "      <td>59127931</td>\n",
       "      <td>27.042599</td>\n",
       "      <td>27.343664</td>\n",
       "      <td>26.878402</td>\n",
       "      <td>27.072705</td>\n",
       "      <td>236511724</td>\n",
       "      <td>0.0</td>\n",
       "      <td>1.0</td>\n",
       "    </tr>\n",
       "    <tr>\n",
       "      <th>1</th>\n",
       "      <td>AAPL</td>\n",
       "      <td>2015-11-11 00:00:00+00:00</td>\n",
       "      <td>116.110</td>\n",
       "      <td>117.42</td>\n",
       "      <td>115.210</td>\n",
       "      <td>116.37</td>\n",
       "      <td>45217971</td>\n",
       "      <td>26.889750</td>\n",
       "      <td>27.193131</td>\n",
       "      <td>26.681320</td>\n",
       "      <td>26.949963</td>\n",
       "      <td>180871884</td>\n",
       "      <td>0.0</td>\n",
       "      <td>1.0</td>\n",
       "    </tr>\n",
       "    <tr>\n",
       "      <th>2</th>\n",
       "      <td>AAPL</td>\n",
       "      <td>2015-11-12 00:00:00+00:00</td>\n",
       "      <td>115.720</td>\n",
       "      <td>116.82</td>\n",
       "      <td>115.650</td>\n",
       "      <td>116.26</td>\n",
       "      <td>32525579</td>\n",
       "      <td>26.799431</td>\n",
       "      <td>27.054178</td>\n",
       "      <td>26.783219</td>\n",
       "      <td>26.924489</td>\n",
       "      <td>130102316</td>\n",
       "      <td>0.0</td>\n",
       "      <td>1.0</td>\n",
       "    </tr>\n",
       "    <tr>\n",
       "      <th>3</th>\n",
       "      <td>AAPL</td>\n",
       "      <td>2015-11-13 00:00:00+00:00</td>\n",
       "      <td>112.340</td>\n",
       "      <td>115.57</td>\n",
       "      <td>112.270</td>\n",
       "      <td>115.20</td>\n",
       "      <td>45812403</td>\n",
       "      <td>26.016661</td>\n",
       "      <td>26.764692</td>\n",
       "      <td>26.000450</td>\n",
       "      <td>26.679005</td>\n",
       "      <td>183249612</td>\n",
       "      <td>0.0</td>\n",
       "      <td>1.0</td>\n",
       "    </tr>\n",
       "    <tr>\n",
       "      <th>4</th>\n",
       "      <td>AAPL</td>\n",
       "      <td>2015-11-16 00:00:00+00:00</td>\n",
       "      <td>114.175</td>\n",
       "      <td>114.24</td>\n",
       "      <td>111.000</td>\n",
       "      <td>111.38</td>\n",
       "      <td>38106701</td>\n",
       "      <td>26.441626</td>\n",
       "      <td>26.456680</td>\n",
       "      <td>25.706333</td>\n",
       "      <td>25.794336</td>\n",
       "      <td>152426804</td>\n",
       "      <td>0.0</td>\n",
       "      <td>1.0</td>\n",
       "    </tr>\n",
       "  </tbody>\n",
       "</table>\n",
       "</div>"
      ],
      "text/plain": [
       "  symbol                       date    close    high      low    open  \\\n",
       "0   AAPL  2015-11-10 00:00:00+00:00  116.770  118.07  116.061  116.90   \n",
       "1   AAPL  2015-11-11 00:00:00+00:00  116.110  117.42  115.210  116.37   \n",
       "2   AAPL  2015-11-12 00:00:00+00:00  115.720  116.82  115.650  116.26   \n",
       "3   AAPL  2015-11-13 00:00:00+00:00  112.340  115.57  112.270  115.20   \n",
       "4   AAPL  2015-11-16 00:00:00+00:00  114.175  114.24  111.000  111.38   \n",
       "\n",
       "     volume   adjClose    adjHigh     adjLow    adjOpen  adjVolume  divCash  \\\n",
       "0  59127931  27.042599  27.343664  26.878402  27.072705  236511724      0.0   \n",
       "1  45217971  26.889750  27.193131  26.681320  26.949963  180871884      0.0   \n",
       "2  32525579  26.799431  27.054178  26.783219  26.924489  130102316      0.0   \n",
       "3  45812403  26.016661  26.764692  26.000450  26.679005  183249612      0.0   \n",
       "4  38106701  26.441626  26.456680  25.706333  25.794336  152426804      0.0   \n",
       "\n",
       "   splitFactor  \n",
       "0          1.0  \n",
       "1          1.0  \n",
       "2          1.0  \n",
       "3          1.0  \n",
       "4          1.0  "
      ]
     },
     "execution_count": 68,
     "metadata": {},
     "output_type": "execute_result"
    }
   ],
   "source": [
    "df.head()"
   ]
  },
  {
   "cell_type": "code",
   "execution_count": 69,
   "metadata": {},
   "outputs": [
    {
     "data": {
      "text/html": [
       "<div>\n",
       "<style scoped>\n",
       "    .dataframe tbody tr th:only-of-type {\n",
       "        vertical-align: middle;\n",
       "    }\n",
       "\n",
       "    .dataframe tbody tr th {\n",
       "        vertical-align: top;\n",
       "    }\n",
       "\n",
       "    .dataframe thead th {\n",
       "        text-align: right;\n",
       "    }\n",
       "</style>\n",
       "<table border=\"1\" class=\"dataframe\">\n",
       "  <thead>\n",
       "    <tr style=\"text-align: right;\">\n",
       "      <th></th>\n",
       "      <th>symbol</th>\n",
       "      <th>date</th>\n",
       "      <th>close</th>\n",
       "      <th>high</th>\n",
       "      <th>low</th>\n",
       "      <th>open</th>\n",
       "      <th>volume</th>\n",
       "      <th>adjClose</th>\n",
       "      <th>adjHigh</th>\n",
       "      <th>adjLow</th>\n",
       "      <th>adjOpen</th>\n",
       "      <th>adjVolume</th>\n",
       "      <th>divCash</th>\n",
       "      <th>splitFactor</th>\n",
       "    </tr>\n",
       "  </thead>\n",
       "  <tbody>\n",
       "    <tr>\n",
       "      <th>1253</th>\n",
       "      <td>AAPL</td>\n",
       "      <td>2020-11-02 00:00:00+00:00</td>\n",
       "      <td>108.77</td>\n",
       "      <td>110.68</td>\n",
       "      <td>107.3200</td>\n",
       "      <td>109.11</td>\n",
       "      <td>122866899</td>\n",
       "      <td>108.582458</td>\n",
       "      <td>110.489164</td>\n",
       "      <td>107.134958</td>\n",
       "      <td>108.921871</td>\n",
       "      <td>122866899</td>\n",
       "      <td>0.000</td>\n",
       "      <td>1.0</td>\n",
       "    </tr>\n",
       "    <tr>\n",
       "      <th>1254</th>\n",
       "      <td>AAPL</td>\n",
       "      <td>2020-11-03 00:00:00+00:00</td>\n",
       "      <td>110.44</td>\n",
       "      <td>111.49</td>\n",
       "      <td>108.7300</td>\n",
       "      <td>109.66</td>\n",
       "      <td>107624448</td>\n",
       "      <td>110.249578</td>\n",
       "      <td>111.297768</td>\n",
       "      <td>108.542527</td>\n",
       "      <td>109.470923</td>\n",
       "      <td>107624448</td>\n",
       "      <td>0.000</td>\n",
       "      <td>1.0</td>\n",
       "    </tr>\n",
       "    <tr>\n",
       "      <th>1255</th>\n",
       "      <td>AAPL</td>\n",
       "      <td>2020-11-04 00:00:00+00:00</td>\n",
       "      <td>114.95</td>\n",
       "      <td>115.59</td>\n",
       "      <td>112.3500</td>\n",
       "      <td>114.14</td>\n",
       "      <td>138235482</td>\n",
       "      <td>114.751802</td>\n",
       "      <td>115.390699</td>\n",
       "      <td>112.156285</td>\n",
       "      <td>113.943199</td>\n",
       "      <td>138235482</td>\n",
       "      <td>0.000</td>\n",
       "      <td>1.0</td>\n",
       "    </tr>\n",
       "    <tr>\n",
       "      <th>1256</th>\n",
       "      <td>AAPL</td>\n",
       "      <td>2020-11-05 00:00:00+00:00</td>\n",
       "      <td>119.03</td>\n",
       "      <td>119.62</td>\n",
       "      <td>116.8686</td>\n",
       "      <td>117.95</td>\n",
       "      <td>126387074</td>\n",
       "      <td>118.824767</td>\n",
       "      <td>119.413750</td>\n",
       "      <td>116.667094</td>\n",
       "      <td>117.746629</td>\n",
       "      <td>126387074</td>\n",
       "      <td>0.000</td>\n",
       "      <td>1.0</td>\n",
       "    </tr>\n",
       "    <tr>\n",
       "      <th>1257</th>\n",
       "      <td>AAPL</td>\n",
       "      <td>2020-11-06 00:00:00+00:00</td>\n",
       "      <td>118.69</td>\n",
       "      <td>119.20</td>\n",
       "      <td>116.1300</td>\n",
       "      <td>118.32</td>\n",
       "      <td>114457922</td>\n",
       "      <td>118.690000</td>\n",
       "      <td>119.200000</td>\n",
       "      <td>116.130000</td>\n",
       "      <td>118.320000</td>\n",
       "      <td>114457922</td>\n",
       "      <td>0.205</td>\n",
       "      <td>1.0</td>\n",
       "    </tr>\n",
       "  </tbody>\n",
       "</table>\n",
       "</div>"
      ],
      "text/plain": [
       "     symbol                       date   close    high       low    open  \\\n",
       "1253   AAPL  2020-11-02 00:00:00+00:00  108.77  110.68  107.3200  109.11   \n",
       "1254   AAPL  2020-11-03 00:00:00+00:00  110.44  111.49  108.7300  109.66   \n",
       "1255   AAPL  2020-11-04 00:00:00+00:00  114.95  115.59  112.3500  114.14   \n",
       "1256   AAPL  2020-11-05 00:00:00+00:00  119.03  119.62  116.8686  117.95   \n",
       "1257   AAPL  2020-11-06 00:00:00+00:00  118.69  119.20  116.1300  118.32   \n",
       "\n",
       "         volume    adjClose     adjHigh      adjLow     adjOpen  adjVolume  \\\n",
       "1253  122866899  108.582458  110.489164  107.134958  108.921871  122866899   \n",
       "1254  107624448  110.249578  111.297768  108.542527  109.470923  107624448   \n",
       "1255  138235482  114.751802  115.390699  112.156285  113.943199  138235482   \n",
       "1256  126387074  118.824767  119.413750  116.667094  117.746629  126387074   \n",
       "1257  114457922  118.690000  119.200000  116.130000  118.320000  114457922   \n",
       "\n",
       "      divCash  splitFactor  \n",
       "1253    0.000          1.0  \n",
       "1254    0.000          1.0  \n",
       "1255    0.000          1.0  \n",
       "1256    0.000          1.0  \n",
       "1257    0.205          1.0  "
      ]
     },
     "execution_count": 69,
     "metadata": {},
     "output_type": "execute_result"
    }
   ],
   "source": [
    "df.tail()"
   ]
  },
  {
   "cell_type": "code",
   "execution_count": 70,
   "metadata": {},
   "outputs": [],
   "source": [
    "######################################################################################\n",
    "######################################################################################"
   ]
  },
  {
   "cell_type": "code",
   "execution_count": 71,
   "metadata": {},
   "outputs": [],
   "source": [
    "df1=df.reset_index()['close']      #提取【close】列，只选取该股票的闭盘价格进行LSTM训练"
   ]
  },
  {
   "cell_type": "code",
   "execution_count": 72,
   "metadata": {},
   "outputs": [],
   "source": [
    "######################################################################################\n",
    "######################################################################################\n",
    "#测试代码，用以观测待训练的数据"
   ]
  },
  {
   "cell_type": "code",
   "execution_count": 73,
   "metadata": {},
   "outputs": [
    {
     "data": {
      "text/plain": [
       "(1258,)"
      ]
     },
     "execution_count": 73,
     "metadata": {},
     "output_type": "execute_result"
    }
   ],
   "source": [
    "df1.shape"
   ]
  },
  {
   "cell_type": "code",
   "execution_count": 74,
   "metadata": {},
   "outputs": [
    {
     "data": {
      "text/plain": [
       "0       116.770\n",
       "1       116.110\n",
       "2       115.720\n",
       "3       112.340\n",
       "4       114.175\n",
       "         ...   \n",
       "1253    108.770\n",
       "1254    110.440\n",
       "1255    114.950\n",
       "1256    119.030\n",
       "1257    118.690\n",
       "Name: close, Length: 1258, dtype: float64"
      ]
     },
     "execution_count": 74,
     "metadata": {},
     "output_type": "execute_result"
    }
   ],
   "source": [
    "df1"
   ]
  },
  {
   "cell_type": "code",
   "execution_count": 75,
   "metadata": {},
   "outputs": [
    {
     "data": {
      "text/plain": [
       "[<matplotlib.lines.Line2D at 0x186e559d470>]"
      ]
     },
     "execution_count": 75,
     "metadata": {},
     "output_type": "execute_result"
    },
    {
     "data": {
      "image/png": "[encoded data removed]",
      "text/plain": [
       "<Figure size 432x288 with 1 Axes>"
      ]
     },
     "metadata": {
      "needs_background": "light"
     },
     "output_type": "display_data"
    }
   ],
   "source": [
    "import matplotlib.pyplot as plt     #绘制苹果股票的闭盘价格图像，有一个直观的印象\n",
    "plt.plot(df1)"
   ]
  },
  {
   "cell_type": "code",
   "execution_count": 76,
   "metadata": {},
   "outputs": [],
   "source": [
    "### LSTM对数据的规模很敏感  我们需要对数据进行标准化处理————最小尺度"
   ]
  },
  {
   "cell_type": "code",
   "execution_count": 77,
   "metadata": {},
   "outputs": [],
   "source": [
    "from sklearn.preprocessing import MinMaxScaler\n",
    "import numpy as np\n",
    "scaler=MinMaxScaler(feature_range=(0,1))\n",
    "df1=scaler.fit_transform(np.array(df1).reshape(-1,1))"
   ]
  },
  {
   "cell_type": "code",
   "execution_count": 78,
   "metadata": {},
   "outputs": [
    {
     "data": {
      "text/plain": [
       "(1258, 1)"
      ]
     },
     "execution_count": 78,
     "metadata": {},
     "output_type": "execute_result"
    }
   ],
   "source": [
    "df1.shape"
   ]
  },
  {
   "cell_type": "code",
   "execution_count": 79,
   "metadata": {},
   "outputs": [
    {
     "name": "stdout",
     "output_type": "stream",
     "text": [
      "[[0.06357186]\n",
      " [0.06198437]\n",
      " [0.0610463 ]\n",
      " ...\n",
      " [0.05919423]\n",
      " [0.06900782]\n",
      " [0.06819002]]\n"
     ]
    }
   ],
   "source": [
    "print(df1)"
   ]
  },
  {
   "cell_type": "code",
   "execution_count": 80,
   "metadata": {},
   "outputs": [],
   "source": [
    "###将数据集分为两部分，一部分是训练集（前3/4），另一部分是测试集（前1/4）\n",
    "training_size=int(len(df1)*0.75)\n",
    "test_size=len(df1)-training_size\n",
    "train_data,test_data=df1[0:training_size,:1],df1[training_size:len(df1),:1]"
   ]
  },
  {
   "cell_type": "code",
   "execution_count": 81,
   "metadata": {},
   "outputs": [
    {
     "data": {
      "text/plain": [
       "(943, 315)"
      ]
     },
     "execution_count": 81,
     "metadata": {},
     "output_type": "execute_result"
    }
   ],
   "source": [
    "len(train_data),len(test_data)"
   ]
  },
  {
   "cell_type": "code",
   "execution_count": 82,
   "metadata": {},
   "outputs": [],
   "source": [
    "import numpy\n",
    "#定义数据处理函数，将数组中的数据转变为待训练的数据矩阵\n",
    "def create_dataset(dataset,time_step=1):\n",
    "    dataX,dataY=[],[]\n",
    "    for i in range(len(dataset)-time_step-1):\n",
    "        a=dataset[i:(i+time_step),0]  #i=0 0,1,2,3\n",
    "        dataX.append(a)\n",
    "        dataY.append(dataset[i+time_step,0])\n",
    "    return numpy.array(dataX),numpy.array(dataY)"
   ]
  },
  {
   "cell_type": "code",
   "execution_count": 83,
   "metadata": {},
   "outputs": [],
   "source": [
    "time_step=100             ###用前100天的数据预测第101天的数据\n",
    "X_train,Y_train=create_dataset(train_data,time_step)\n",
    "X_test,Y_test=create_dataset(test_data,time_step)"
   ]
  },
  {
   "cell_type": "code",
   "execution_count": 84,
   "metadata": {},
   "outputs": [
    {
     "data": {
      "text/plain": [
       "((842, 100), (842,))"
      ]
     },
     "execution_count": 84,
     "metadata": {},
     "output_type": "execute_result"
    }
   ],
   "source": [
    "X_train.shape,Y_train.shape"
   ]
  },
  {
   "cell_type": "code",
   "execution_count": 85,
   "metadata": {},
   "outputs": [],
   "source": [
    "##将数据转换为LSTM模型所需要的input\n",
    "X_train=X_train.reshape(X_train.shape[0],X_train.shape[1],1)\n",
    "X_test=X_test.reshape(X_test.shape[0],X_test.shape[1],1)"
   ]
  },
  {
   "cell_type": "code",
   "execution_count": null,
   "metadata": {},
   "outputs": [],
   "source": []
  },
  {
   "cell_type": "code",
   "execution_count": 86,
   "metadata": {},
   "outputs": [],
   "source": [
    "######################################################################################\n",
    "######################################################################################\n",
    "#创建LSTM模型，进行训练"
   ]
  },
  {
   "cell_type": "code",
   "execution_count": 87,
   "metadata": {},
   "outputs": [],
   "source": [
    "###创建LSTM模型\n",
    "from tensorflow.keras.models import Sequential\n",
    "from tensorflow.keras.layers import Dense\n",
    "from tensorflow.keras.layers import LSTM"
   ]
  },
  {
   "cell_type": "code",
   "execution_count": 88,
   "metadata": {},
   "outputs": [],
   "source": [
    "model=Sequential()    #使用keras中的Sequential序贯模型,构建3层lstm神经网络，与1层Dense层\n",
    "model.add(LSTM(50,return_sequences=True,input_shape=(100,1)))\n",
    "model.add(LSTM(100,return_sequences=True))\n",
    "model.add(LSTM(100,return_sequences=False))\n",
    "model.add(Dense(1))  #进行维度变换，将LSTM的输出转换为所需输出\n",
    "model.compile(loss='mean_squared_error',optimizer='adam')  #配置学习过程，定义loss函数为均方误差，并使用adam优化器对模型进行优化"
   ]
  },
  {
   "cell_type": "code",
   "execution_count": 89,
   "metadata": {},
   "outputs": [
    {
     "name": "stdout",
     "output_type": "stream",
     "text": [
      "Model: \"sequential_1\"\n",
      "_________________________________________________________________\n",
      "Layer (type)                 Output Shape              Param #   \n",
      "=================================================================\n",
      "lstm_3 (LSTM)                (None, 100, 50)           10400     \n",
      "_________________________________________________________________\n",
      "lstm_4 (LSTM)                (None, 100, 100)          60400     \n",
      "_________________________________________________________________\n",
      "lstm_5 (LSTM)                (None, 100)               80400     \n",
      "_________________________________________________________________\n",
      "dense_1 (Dense)              (None, 1)                 101       \n",
      "=================================================================\n",
      "Total params: 151,301\n",
      "Trainable params: 151,301\n",
      "Non-trainable params: 0\n",
      "_________________________________________________________________\n"
     ]
    }
   ],
   "source": [
    "model.summary()   ##利用model()函数，直观的观察LSTM模型的结构"
   ]
  },
  {
   "cell_type": "code",
   "execution_count": 90,
   "metadata": {},
   "outputs": [
    {
     "name": "stdout",
     "output_type": "stream",
     "text": [
      "Train on 842 samples, validate on 214 samples\n",
      "Epoch 1/100\n",
      "842/842 [==============================] - 10s 11ms/sample - loss: 0.0072 - val_loss: 0.0319\n",
      "Epoch 2/100\n",
      "842/842 [==============================] - 5s 6ms/sample - loss: 9.5827e-04 - val_loss: 0.0315\n",
      "Epoch 3/100\n",
      "842/842 [==============================] - 4s 5ms/sample - loss: 3.8860e-04 - val_loss: 0.0277\n",
      "Epoch 4/100\n",
      "842/842 [==============================] - 5s 6ms/sample - loss: 3.2972e-04 - val_loss: 0.0267\n",
      "Epoch 5/100\n",
      "842/842 [==============================] - 5s 6ms/sample - loss: 3.0943e-04 - val_loss: 0.0259\n",
      "Epoch 6/100\n",
      "842/842 [==============================] - 5s 6ms/sample - loss: 3.0082e-04 - val_loss: 0.0251\n",
      "Epoch 7/100\n",
      "842/842 [==============================] - 6s 7ms/sample - loss: 3.0134e-04 - val_loss: 0.0244\n",
      "Epoch 8/100\n",
      "842/842 [==============================] - 5s 5ms/sample - loss: 2.7593e-04 - val_loss: 0.0232\n",
      "Epoch 9/100\n",
      "842/842 [==============================] - 5s 5ms/sample - loss: 2.6140e-04 - val_loss: 0.0223\n",
      "Epoch 10/100\n",
      "842/842 [==============================] - 5s 6ms/sample - loss: 2.7084e-04 - val_loss: 0.0216\n",
      "Epoch 11/100\n",
      "842/842 [==============================] - 4s 5ms/sample - loss: 2.4020e-04 - val_loss: 0.0207\n",
      "Epoch 12/100\n",
      "842/842 [==============================] - 5s 6ms/sample - loss: 2.8230e-04 - val_loss: 0.0204\n",
      "Epoch 13/100\n",
      "842/842 [==============================] - 5s 6ms/sample - loss: 2.6374e-04 - val_loss: 0.0198\n",
      "Epoch 14/100\n",
      "842/842 [==============================] - 5s 6ms/sample - loss: 2.3053e-04 - val_loss: 0.0197\n",
      "Epoch 15/100\n",
      "842/842 [==============================] - 5s 6ms/sample - loss: 2.0615e-04 - val_loss: 0.0189\n",
      "Epoch 16/100\n",
      "842/842 [==============================] - 5s 6ms/sample - loss: 2.1379e-04 - val_loss: 0.0185\n",
      "Epoch 17/100\n",
      "842/842 [==============================] - 5s 6ms/sample - loss: 1.9659e-04 - val_loss: 0.0184\n",
      "Epoch 18/100\n",
      "842/842 [==============================] - 4s 5ms/sample - loss: 2.0900e-04 - val_loss: 0.0190\n",
      "Epoch 19/100\n",
      "842/842 [==============================] - 4s 5ms/sample - loss: 2.1479e-04 - val_loss: 0.0184\n",
      "Epoch 20/100\n",
      "842/842 [==============================] - 4s 5ms/sample - loss: 2.0183e-04 - val_loss: 0.0177\n",
      "Epoch 21/100\n",
      "842/842 [==============================] - 4s 5ms/sample - loss: 1.9701e-04 - val_loss: 0.0169\n",
      "Epoch 22/100\n",
      "842/842 [==============================] - 4s 5ms/sample - loss: 1.9765e-04 - val_loss: 0.0170\n",
      "Epoch 23/100\n",
      "842/842 [==============================] - 4s 5ms/sample - loss: 1.8649e-04 - val_loss: 0.0167\n",
      "Epoch 24/100\n",
      "842/842 [==============================] - 4s 5ms/sample - loss: 1.7130e-04 - val_loss: 0.0159\n",
      "Epoch 25/100\n",
      "842/842 [==============================] - 4s 5ms/sample - loss: 1.7082e-04 - val_loss: 0.0169\n",
      "Epoch 26/100\n",
      "842/842 [==============================] - 4s 5ms/sample - loss: 1.8204e-04 - val_loss: 0.0157\n",
      "Epoch 27/100\n",
      "842/842 [==============================] - 4s 5ms/sample - loss: 1.6457e-04 - val_loss: 0.0170\n",
      "Epoch 28/100\n",
      "842/842 [==============================] - 5s 6ms/sample - loss: 1.7505e-04 - val_loss: 0.0172\n",
      "Epoch 29/100\n",
      "842/842 [==============================] - 5s 6ms/sample - loss: 1.9256e-04 - val_loss: 0.0177\n",
      "Epoch 30/100\n",
      "842/842 [==============================] - 5s 6ms/sample - loss: 1.9568e-04 - val_loss: 0.0159\n",
      "Epoch 31/100\n",
      "842/842 [==============================] - 4s 5ms/sample - loss: 1.6068e-04 - val_loss: 0.0149\n",
      "Epoch 32/100\n",
      "842/842 [==============================] - 4s 5ms/sample - loss: 1.5246e-04 - val_loss: 0.0147\n",
      "Epoch 33/100\n",
      "842/842 [==============================] - 4s 5ms/sample - loss: 1.5468e-04 - val_loss: 0.0160\n",
      "Epoch 34/100\n",
      "842/842 [==============================] - 4s 5ms/sample - loss: 1.6380e-04 - val_loss: 0.0139\n",
      "Epoch 35/100\n",
      "842/842 [==============================] - 4s 5ms/sample - loss: 1.5576e-04 - val_loss: 0.0153\n",
      "Epoch 36/100\n",
      "842/842 [==============================] - 4s 5ms/sample - loss: 1.6204e-04 - val_loss: 0.0136\n",
      "Epoch 37/100\n",
      "842/842 [==============================] - 4s 5ms/sample - loss: 1.4957e-04 - val_loss: 0.0135\n",
      "Epoch 38/100\n",
      "842/842 [==============================] - 4s 5ms/sample - loss: 1.4044e-04 - val_loss: 0.0130\n",
      "Epoch 39/100\n",
      "842/842 [==============================] - 4s 5ms/sample - loss: 1.4333e-04 - val_loss: 0.0134\n",
      "Epoch 40/100\n",
      "842/842 [==============================] - 4s 5ms/sample - loss: 1.4149e-04 - val_loss: 0.0151\n",
      "Epoch 41/100\n",
      "842/842 [==============================] - 4s 5ms/sample - loss: 1.6049e-04 - val_loss: 0.0129\n",
      "Epoch 42/100\n",
      "842/842 [==============================] - 5s 5ms/sample - loss: 1.3889e-04 - val_loss: 0.0146\n",
      "Epoch 43/100\n",
      "842/842 [==============================] - 5s 6ms/sample - loss: 1.6044e-04 - val_loss: 0.0138\n",
      "Epoch 44/100\n",
      "842/842 [==============================] - 5s 6ms/sample - loss: 1.4215e-04 - val_loss: 0.0139\n",
      "Epoch 45/100\n",
      "842/842 [==============================] - 5s 6ms/sample - loss: 1.3869e-04 - val_loss: 0.0127\n",
      "Epoch 46/100\n",
      "842/842 [==============================] - 5s 6ms/sample - loss: 1.3763e-04 - val_loss: 0.0126\n",
      "Epoch 47/100\n",
      "842/842 [==============================] - 5s 6ms/sample - loss: 1.3388e-04 - val_loss: 0.0126\n",
      "Epoch 48/100\n",
      "842/842 [==============================] - 5s 6ms/sample - loss: 1.2540e-04 - val_loss: 0.0122\n",
      "Epoch 49/100\n",
      "842/842 [==============================] - 4s 5ms/sample - loss: 1.3291e-04 - val_loss: 0.0121\n",
      "Epoch 50/100\n",
      "842/842 [==============================] - 4s 5ms/sample - loss: 1.3928e-04 - val_loss: 0.0121\n",
      "Epoch 51/100\n",
      "842/842 [==============================] - 5s 6ms/sample - loss: 1.3808e-04 - val_loss: 0.0117\n",
      "Epoch 52/100\n",
      "842/842 [==============================] - 4s 5ms/sample - loss: 1.2016e-04 - val_loss: 0.0114\n",
      "Epoch 53/100\n",
      "842/842 [==============================] - 4s 5ms/sample - loss: 1.1782e-04 - val_loss: 0.0112\n",
      "Epoch 54/100\n",
      "842/842 [==============================] - 5s 5ms/sample - loss: 1.3440e-04 - val_loss: 0.0110\n",
      "Epoch 55/100\n",
      "842/842 [==============================] - 5s 6ms/sample - loss: 1.4289e-04 - val_loss: 0.0112\n",
      "Epoch 56/100\n",
      "842/842 [==============================] - 5s 6ms/sample - loss: 1.1524e-04 - val_loss: 0.0111\n",
      "Epoch 57/100\n",
      "842/842 [==============================] - 5s 6ms/sample - loss: 1.5370e-04 - val_loss: 0.0108\n",
      "Epoch 58/100\n",
      "842/842 [==============================] - 5s 5ms/sample - loss: 1.4823e-04 - val_loss: 0.0107\n",
      "Epoch 59/100\n",
      "842/842 [==============================] - 5s 5ms/sample - loss: 1.3711e-04 - val_loss: 0.0107\n",
      "Epoch 60/100\n",
      "842/842 [==============================] - 4s 5ms/sample - loss: 1.2295e-04 - val_loss: 0.0107\n",
      "Epoch 61/100\n",
      "842/842 [==============================] - 4s 5ms/sample - loss: 1.0897e-04 - val_loss: 0.0105\n",
      "Epoch 62/100\n",
      "842/842 [==============================] - 5s 6ms/sample - loss: 1.1748e-04 - val_loss: 0.0106\n",
      "Epoch 63/100\n",
      "842/842 [==============================] - 5s 6ms/sample - loss: 1.1224e-04 - val_loss: 0.0107\n",
      "Epoch 64/100\n",
      "842/842 [==============================] - 5s 6ms/sample - loss: 1.0614e-04 - val_loss: 0.0117\n",
      "Epoch 65/100\n",
      "842/842 [==============================] - 4s 5ms/sample - loss: 1.3357e-04 - val_loss: 0.0107\n",
      "Epoch 66/100\n",
      "842/842 [==============================] - 5s 6ms/sample - loss: 1.0559e-04 - val_loss: 0.0103\n",
      "Epoch 67/100\n",
      "842/842 [==============================] - 5s 6ms/sample - loss: 1.0417e-04 - val_loss: 0.0104\n",
      "Epoch 68/100\n",
      "842/842 [==============================] - 5s 6ms/sample - loss: 1.0254e-04 - val_loss: 0.0100\n",
      "Epoch 69/100\n",
      "842/842 [==============================] - 4s 5ms/sample - loss: 9.9417e-05 - val_loss: 0.0102\n",
      "Epoch 70/100\n",
      "842/842 [==============================] - 5s 5ms/sample - loss: 1.0486e-04 - val_loss: 0.0095\n",
      "Epoch 71/100\n",
      "842/842 [==============================] - 4s 5ms/sample - loss: 1.2836e-04 - val_loss: 0.0103\n",
      "Epoch 72/100\n",
      "842/842 [==============================] - 4s 5ms/sample - loss: 1.5301e-04 - val_loss: 0.0100\n",
      "Epoch 73/100\n",
      "842/842 [==============================] - 4s 5ms/sample - loss: 1.2066e-04 - val_loss: 0.0099\n",
      "Epoch 74/100\n",
      "842/842 [==============================] - 4s 5ms/sample - loss: 1.0126e-04 - val_loss: 0.0094\n",
      "Epoch 75/100\n",
      "842/842 [==============================] - 4s 5ms/sample - loss: 1.0204e-04 - val_loss: 0.0091\n",
      "Epoch 76/100\n",
      "842/842 [==============================] - 4s 5ms/sample - loss: 1.1227e-04 - val_loss: 0.0088\n",
      "Epoch 77/100\n",
      "842/842 [==============================] - 4s 5ms/sample - loss: 9.6072e-05 - val_loss: 0.0088\n",
      "Epoch 78/100\n",
      "842/842 [==============================] - 4s 5ms/sample - loss: 9.3747e-05 - val_loss: 0.0089\n",
      "Epoch 79/100\n",
      "842/842 [==============================] - 4s 5ms/sample - loss: 8.8652e-05 - val_loss: 0.0088\n",
      "Epoch 80/100\n",
      "842/842 [==============================] - 4s 5ms/sample - loss: 9.3562e-05 - val_loss: 0.0087\n",
      "Epoch 81/100\n",
      "842/842 [==============================] - 4s 5ms/sample - loss: 1.1036e-04 - val_loss: 0.0084\n",
      "Epoch 82/100\n",
      "842/842 [==============================] - 4s 5ms/sample - loss: 9.0766e-05 - val_loss: 0.0085\n",
      "Epoch 83/100\n",
      "842/842 [==============================] - 4s 5ms/sample - loss: 8.9998e-05 - val_loss: 0.0086\n",
      "Epoch 84/100\n",
      "842/842 [==============================] - 5s 6ms/sample - loss: 1.0525e-04 - val_loss: 0.0082\n",
      "Epoch 85/100\n",
      "842/842 [==============================] - 5s 6ms/sample - loss: 8.6271e-05 - val_loss: 0.0081\n",
      "Epoch 86/100\n",
      "842/842 [==============================] - 4s 5ms/sample - loss: 8.2688e-05 - val_loss: 0.0095\n",
      "Epoch 87/100\n",
      "842/842 [==============================] - 4s 5ms/sample - loss: 1.3742e-04 - val_loss: 0.0095\n",
      "Epoch 88/100\n",
      "842/842 [==============================] - 4s 5ms/sample - loss: 1.3195e-04 - val_loss: 0.0086\n",
      "Epoch 89/100\n",
      "842/842 [==============================] - 5s 6ms/sample - loss: 8.8256e-05 - val_loss: 0.0078\n",
      "Epoch 90/100\n",
      "842/842 [==============================] - 4s 5ms/sample - loss: 8.2990e-05 - val_loss: 0.0079\n",
      "Epoch 91/100\n",
      "842/842 [==============================] - 5s 6ms/sample - loss: 8.1945e-05 - val_loss: 0.0079\n",
      "Epoch 92/100\n",
      "842/842 [==============================] - 5s 6ms/sample - loss: 8.7986e-05 - val_loss: 0.0080\n",
      "Epoch 93/100\n",
      "842/842 [==============================] - 5s 6ms/sample - loss: 8.3683e-05 - val_loss: 0.0075\n",
      "Epoch 94/100\n",
      "842/842 [==============================] - 4s 5ms/sample - loss: 8.3350e-05 - val_loss: 0.0083\n",
      "Epoch 95/100\n",
      "842/842 [==============================] - 4s 5ms/sample - loss: 1.0686e-04 - val_loss: 0.0078\n",
      "Epoch 96/100\n",
      "842/842 [==============================] - 5s 6ms/sample - loss: 1.0417e-04 - val_loss: 0.0082\n",
      "Epoch 97/100\n",
      "842/842 [==============================] - 4s 5ms/sample - loss: 1.0598e-04 - val_loss: 0.0087\n",
      "Epoch 98/100\n",
      "842/842 [==============================] - 4s 5ms/sample - loss: 1.0482e-04 - val_loss: 0.0072\n",
      "Epoch 99/100\n",
      "842/842 [==============================] - 4s 5ms/sample - loss: 8.7267e-05 - val_loss: 0.0073\n",
      "Epoch 100/100\n",
      "842/842 [==============================] - 4s 5ms/sample - loss: 7.8908e-05 - val_loss: 0.0072\n"
     ]
    },
    {
     "data": {
      "text/plain": [
       "<tensorflow.python.keras.callbacks.History at 0x186e7ed3588>"
      ]
     },
     "execution_count": 90,
     "metadata": {},
     "output_type": "execute_result"
    }
   ],
   "source": [
    "model.fit(X_train,Y_train,validation_data=(X_test,Y_test),epochs=100,batch_size=64,verbose=1)  ##进行训练"
   ]
  },
  {
   "cell_type": "code",
   "execution_count": 91,
   "metadata": {},
   "outputs": [
    {
     "data": {
      "text/plain": [
       "'2.1.0'"
      ]
     },
     "execution_count": 91,
     "metadata": {},
     "output_type": "execute_result"
    }
   ],
   "source": [
    "import tensorflow as tf\n",
    "tf.__version__"
   ]
  },
  {
   "cell_type": "code",
   "execution_count": 92,
   "metadata": {},
   "outputs": [],
   "source": [
    "###预测检验\n",
    "train_predict=model.predict(X_train)     #利用训练出来的模型对训练集进行预测\n",
    "test_predict=model.predict(X_test)       ##利用训练出来的模型对测试集进行预测"
   ]
  },
  {
   "cell_type": "code",
   "execution_count": 93,
   "metadata": {},
   "outputs": [],
   "source": [
    "train_predict=scaler.inverse_transform(train_predict)   #将标准化处理的数据还原到原来的尺度\n",
    "test_predict=scaler.inverse_transform(test_predict)     #将标准化处理的数据还原到原来的尺度"
   ]
  },
  {
   "cell_type": "code",
   "execution_count": 94,
   "metadata": {},
   "outputs": [
    {
     "data": {
      "text/plain": [
       "162.36684546048724"
      ]
     },
     "execution_count": 94,
     "metadata": {},
     "output_type": "execute_result"
    }
   ],
   "source": [
    "import math\n",
    "from sklearn.metrics import mean_squared_error\n",
    "math.sqrt(mean_squared_error(Y_train,train_predict))    #计算训练集的均值方差"
   ]
  },
  {
   "cell_type": "code",
   "execution_count": 95,
   "metadata": {},
   "outputs": [
    {
     "data": {
      "text/plain": [
       "295.91807026195914"
      ]
     },
     "execution_count": 95,
     "metadata": {},
     "output_type": "execute_result"
    }
   ],
   "source": [
    "math.sqrt(mean_squared_error(Y_test,test_predict))     #计算预测集的均值方差"
   ]
  },
  {
   "cell_type": "code",
   "execution_count": 96,
   "metadata": {},
   "outputs": [
    {
     "data": {
      "image/png": "[encoded data removed]",
      "text/plain": [
       "<Figure size 432x288 with 1 Axes>"
      ]
     },
     "metadata": {
      "needs_background": "light"
     },
     "output_type": "display_data"
    }
   ],
   "source": [
    "###观察训练效果，原始的蓝色曲线是数据集，橙色曲线是训练集的训练效果展示，绿色曲线是测试集的训练效果展示\n",
    "look_back=100\n",
    "trainPredictPlot=np.empty_like(df1)\n",
    "trainPredictPlot[:,:]=np.nan\n",
    "trainPredictPlot[look_back:len(train_predict)+look_back,:]=train_predict\n",
    "\n",
    "testPredictPlot=np.empty_like(df1)\n",
    "testPredictPlot[:,:]=np.nan\n",
    "testPredictPlot[len(train_predict)+(look_back*2)+1:len(df1)-1,:]=test_predict\n",
    "\n",
    "plt.plot(scaler.inverse_transform(df1))\n",
    "plt.plot(trainPredictPlot)\n",
    "plt.plot(testPredictPlot)\n",
    "plt.show()"
   ]
  },
  {
   "cell_type": "code",
   "execution_count": 97,
   "metadata": {},
   "outputs": [
    {
     "data": {
      "text/plain": [
       "315"
      ]
     },
     "execution_count": 97,
     "metadata": {},
     "output_type": "execute_result"
    }
   ],
   "source": [
    "len(test_data)"
   ]
  },
  {
   "cell_type": "code",
   "execution_count": 98,
   "metadata": {},
   "outputs": [],
   "source": [
    "X_input=test_data[215:].reshape(-1,1)   #取已知数据集的后一百天作为输入，预测第101天，依次向后预测"
   ]
  },
  {
   "cell_type": "code",
   "execution_count": 99,
   "metadata": {},
   "outputs": [
    {
     "data": {
      "text/plain": [
       "(100, 1)"
      ]
     },
     "execution_count": 99,
     "metadata": {},
     "output_type": "execute_result"
    }
   ],
   "source": [
    "X_input.shape"
   ]
  },
  {
   "cell_type": "code",
   "execution_count": 100,
   "metadata": {},
   "outputs": [],
   "source": [
    "temp_input=list(X_input)\n",
    "temp_input=temp_input[0].tolist()    #转换成所需的数据类型"
   ]
  },
  {
   "cell_type": "code",
   "execution_count": 101,
   "metadata": {},
   "outputs": [
    {
     "data": {
      "text/plain": [
       "[0.628719182200842]"
      ]
     },
     "execution_count": 101,
     "metadata": {},
     "output_type": "execute_result"
    }
   ],
   "source": [
    "temp_input"
   ]
  },
  {
   "cell_type": "code",
   "execution_count": 102,
   "metadata": {},
   "outputs": [
    {
     "name": "stdout",
     "output_type": "stream",
     "text": [
      "[0.05946534]\n",
      "2\n",
      "[0.05946534]\n",
      "3\n",
      "[0.05946534]\n",
      "4\n",
      "[0.05946534]\n",
      "5\n",
      "[0.05946534]\n",
      "6\n",
      "[0.05946534]\n",
      "7\n",
      "[0.05946534]\n",
      "8\n",
      "[0.05946534]\n",
      "9\n",
      "[0.05946534]\n",
      "10\n",
      "[0.05946534]\n",
      "11\n",
      "[0.05946534]\n",
      "12\n",
      "[0.05946534]\n",
      "13\n",
      "[0.05946534]\n",
      "14\n",
      "[0.05946534]\n",
      "15\n",
      "[0.05946534]\n",
      "16\n",
      "[[0.05946534499526024], [0.05946534499526024], [0.05946534499526024], [0.05946534499526024], [0.05946534499526024], [0.05946534499526024], [0.05946534499526024], [0.05946534499526024], [0.05946534499526024], [0.05946534499526024], [0.05946534499526024], [0.05946534499526024], [0.05946534499526024], [0.05946534499526024], [0.05946534499526024]]\n"
     ]
    }
   ],
   "source": [
    "###预测未来15天的股票闭盘价格走势\n",
    "from numpy import array\n",
    "lst_output=[]\n",
    "n_steps=100\n",
    "i=0\n",
    "while(i<15):\n",
    "    if(len(temp_input)>100):\n",
    "        X_input=np.array(temp_input[1:])\n",
    "        print(\"{} day input {}\".format(i,X_input))\n",
    "        X_input=X_input.reshape(1,-1)\n",
    "        X_input=X_input.reshape((1,n_steps,1))\n",
    "        yhat=model.predict(X_input,verbose=0)\n",
    "        print(\"{} day output {}\".format(i,yhat))\n",
    "        temp_input.extend(yhat[0].tolist())\n",
    "        temp_input=temp_input[1:]\n",
    "        lst_output.extend(yhat.tolist())\n",
    "        i=i+1\n",
    "    else:\n",
    "        X_input=X_input.reshape((1,n_steps,1))\n",
    "        yhat=model.predict(X_input,verbose=0)\n",
    "        print(yhat[0])\n",
    "        temp_input.extend(yhat[0].tolist())\n",
    "        print(len(temp_input))\n",
    "        lst_output.extend(yhat.tolist())\n",
    "        i=i+1\n",
    "\n",
    "print(lst_output)"
   ]
  },
  {
   "cell_type": "code",
   "execution_count": 103,
   "metadata": {},
   "outputs": [],
   "source": [
    "day_new=np.arange(1,101)\n",
    "day_pred=np.arange(101,116)"
   ]
  },
  {
   "cell_type": "code",
   "execution_count": 104,
   "metadata": {},
   "outputs": [],
   "source": [
    "import matplotlib.pyplot as plt"
   ]
  },
  {
   "cell_type": "code",
   "execution_count": 105,
   "metadata": {},
   "outputs": [],
   "source": [
    "df2=df1.tolist()\n",
    "df2.extend(lst_output)"
   ]
  },
  {
   "cell_type": "code",
   "execution_count": 106,
   "metadata": {},
   "outputs": [
    {
     "data": {
      "text/plain": [
       "[<matplotlib.lines.Line2D at 0x186f12a3588>]"
      ]
     },
     "execution_count": 106,
     "metadata": {},
     "output_type": "execute_result"
    },
    {
     "data": {
      "image/png": "[encoded data removed]",
      "text/plain": [
       "<Figure size 432x288 with 1 Axes>"
      ]
     },
     "metadata": {
      "needs_background": "light"
     },
     "output_type": "display_data"
    }
   ],
   "source": [
    "plt.plot(day_new,scaler.inverse_transform(df1[1158:]))    ##将标准化的数据返回到原来的比例，并绘制曲线\n",
    "plt.plot(day_pred,scaler.inverse_transform(lst_output))"
   ]
  },
  {
   "cell_type": "code",
   "execution_count": 107,
   "metadata": {
    "scrolled": false
   },
   "outputs": [
    {
     "name": "stdout",
     "output_type": "stream",
     "text": [
      "import tensorflow as tf\n",
      "tf.__version__\n",
      "###预测检验\n",
      "train_predict=model.predict(X_train)\n",
      "test_predict=model.predict(X_test)\n",
      "import pandas_datareader as pdr\n",
      "df=pdr.get_data_tiingo('AAPL',api_key='3bf49d7c00d719c5151350b494f0a992eb31a7b8')\n",
      "df.to_csv('AAPL.csv')\n",
      "import pandas as pd\n",
      "df=pd.read_csv('AAPL.csv')\n",
      "df.head()\n",
      "df.tail()\n",
      "df1=df.reset_index()['close']\n",
      "df1.shape\n",
      "df1\n",
      "import matplotlib.pyplot as plt\n",
      "plt.plot(df1)\n",
      "### LSTM对数据的规模很敏感  所以我们应用最小尺度\n",
      "from sklearn.preprocessing import MinMaxScaler\n",
      "import numpy as np\n",
      "scaler=MinMaxScaler(feature_range=(0,1))\n",
      "df1=scaler.fit_transform(np.array(df1).reshape(-1,1))\n",
      "df1.shape\n",
      "print(df1)\n",
      "###将数据集分为两部分，一部分是训练集，另一部分是测试集\n",
      "training_size=int(len(df1)*0.75)\n",
      "test_size=len(df1)-training_size\n",
      "train_data,test_data=df1[0:training_size,:1],df1[training_size:len(df1),:1]\n",
      "len(train_data),len(test_data)\n",
      "import numpy\n",
      "#将数组中的数据转变为  待训练的数据矩阵\n",
      "def create_dataset(dataset,time_step=1):\n",
      "    dataX,dataY=[],[]\n",
      "    for i in range(len(dataset)-time_step-1):\n",
      "        a=dataset[i:(i+time_step),0]  #i=0 0,1,2,3\n",
      "        dataX.append(a)\n",
      "        dataY.append(dataset[i+time_step,0])\n",
      "    return numpy.array(dataX),numpy.array(dataY)\n",
      "time_step=100\n",
      "X_train,Y_train=create_dataset(train_data,time_step)\n",
      "X_test,Y_test=create_dataset(test_data,time_step)\n",
      "X_train.shape,Y_train.shape\n",
      "##将数据转换为LSTM模型所需要的input\n",
      "X_train=X_train.reshape(X_train.shape[0],X_train.shape[1],1)\n",
      "X_test=X_test.reshape(X_test.shape[0],X_test.shape[1],1)\n",
      "###创建LSTM模型\n",
      "from tensorflow.keras.models import Sequential\n",
      "from tensorflow.keras.layers import Dense\n",
      "from tensorflow.keras.layers import LSTM\n",
      "model=Sequential()\n",
      "model.add(LSTM(50,return_sequences=True,input_shape=(100,1)))\n",
      "model.add(LSTM(100,return_sequences=True))\n",
      "model.add(LSTM(100))\n",
      "model.add(Dense(1))\n",
      "model.compile(loss='mean_squared_error',optimizer='adam')\n",
      "model.summary()\n",
      "model.fit(X_train,Y_train,validation_data=(X_test,Y_test),epochs=100,batch_size=64,verbose=1)\n",
      "import tensorflow as tf\n",
      "tf.__version__\n",
      "###预测检验\n",
      "train_predict=model.predict(X_train)\n",
      "test_predict=model.predict(X_test)\n",
      "train_predict=scaler.inverse_transform(train_predict)\n",
      "test_predict=scaler.inverse_transform(test_predict)\n",
      "import math\n",
      "from sklearn.metrics import mean_squared_error\n",
      "math.sqrt(mean_squared_error(Y_train,train_predict))\n",
      "math.sqrt(mean_squared_error(Y_test,test_predict))\n",
      "look_back=100\n",
      "trainPredictPlot=np.empty_like(df1)\n",
      "trainPredictPlot[:,:]=np.nan\n",
      "trainPredictPlot[look_back:len(train_predict)+look_back,:]=train_predict\n",
      "\n",
      "testPredictPlot=np.empty_like(df1)\n",
      "testPredictPlot[:,:]=np.nan\n",
      "testPredictPlot[len(train_predict)+(look_back*2)+1:len(df1)-1,:]=test_predict\n",
      "\n",
      "plt.plot(scaler.inverse_transform(df1))\n",
      "plt.plot(trainPredictPlot)\n",
      "plt.plot(testPredictPlot)\n",
      "plt.show()\n",
      "len(test_data)\n",
      "X_input=test_data[341:].reshape(-1,1)\n",
      "X_input.shape\n",
      "temp_input=list(X_input)\n",
      "temp_input=temp_input[0].tolist()\n",
      "X_input.shape\n",
      "X_input=test_data[214:].reshape(-1,1)\n",
      "X_input.shape\n",
      "temp_input=list(X_input)\n",
      "temp_input=temp_input[0].tolist()\n",
      "temp_input\n",
      "from numpy import array\n",
      "lst_output=[]\n",
      "n_steps=100\n",
      "i=0\n",
      "while(i<30):\n",
      "    if(len(temp_input)>100):\n",
      "        X_input=np.array(temp_input[1:])\n",
      "        print(\"{} day input {}\".format(i,X_input))\n",
      "        X_input=X_input.reshape(1,-1)\n",
      "        X_input=X_input.reshape((1,n_steps,1))\n",
      "        yhat=model.predict(X_input,verbose=0)\n",
      "        print(\"{} day output {}\".format(i,yhat))\n",
      "        temp_input.extend(yhat[0].tolist())\n",
      "        temp_input=temp_input[1:]\n",
      "        lst_output.extend(yhat.tolist())\n",
      "        i=i+1\n",
      "    else:\n",
      "        X_input=X_input.reshape((1,n_steps,1))\n",
      "        yhat=model.predict(X_input,verbose=0)\n",
      "        print(yhat[0])\n",
      "        temp_input.extend(yhat[0].tolist())\n",
      "        print(len(temp_input))\n",
      "        lst_output.extend(yhat.tolist())\n",
      "        i=i+1\n",
      "\n",
      "print(lst_output)\n",
      "X_input=test_data[215:].reshape(-1,1)\n",
      "X_input.shape\n",
      "temp_input=list(X_input)\n",
      "temp_input=temp_input[0].tolist()\n",
      "temp_input\n",
      "from numpy import array\n",
      "lst_output=[]\n",
      "n_steps=100\n",
      "i=0\n",
      "while(i<30):\n",
      "    if(len(temp_input)>100):\n",
      "        X_input=np.array(temp_input[1:])\n",
      "        print(\"{} day input {}\".format(i,X_input))\n",
      "        X_input=X_input.reshape(1,-1)\n",
      "        X_input=X_input.reshape((1,n_steps,1))\n",
      "        yhat=model.predict(X_input,verbose=0)\n",
      "        print(\"{} day output {}\".format(i,yhat))\n",
      "        temp_input.extend(yhat[0].tolist())\n",
      "        temp_input=temp_input[1:]\n",
      "        lst_output.extend(yhat.tolist())\n",
      "        i=i+1\n",
      "    else:\n",
      "        X_input=X_input.reshape((1,n_steps,1))\n",
      "        yhat=model.predict(X_input,verbose=0)\n",
      "        print(yhat[0])\n",
      "        temp_input.extend(yhat[0].tolist())\n",
      "        print(len(temp_input))\n",
      "        lst_output.extend(yhat.tolist())\n",
      "        i=i+1\n",
      "\n",
      "print(lst_output)\n",
      "day_new=np.arange(1,101)\n",
      "day_pred=np.arange(101,131)\n",
      "import matplotlib.pyplot as plt\n",
      "df2=df1.tolist()\n",
      "df2.extend(lst_output)\n",
      "plt.plot(day_new,scaler.inverse_transform(df1[1159:]))\n",
      "plt.plot(day_pred,scaler.inverse_transform(lst_output))\n",
      "plt.plot(day_new,scaler.inverse_transform(df1[1158:]))\n",
      "plt.plot(day_pred,scaler.inverse_transform(lst_output))\n",
      "from numpy import array\n",
      "lst_output=[]\n",
      "n_steps=100\n",
      "i=0\n",
      "while(i<15):\n",
      "    if(len(temp_input)>100):\n",
      "        X_input=np.array(temp_input[1:])\n",
      "        print(\"{} day input {}\".format(i,X_input))\n",
      "        X_input=X_input.reshape(1,-1)\n",
      "        X_input=X_input.reshape((1,n_steps,1))\n",
      "        yhat=model.predict(X_input,verbose=0)\n",
      "        print(\"{} day output {}\".format(i,yhat))\n",
      "        temp_input.extend(yhat[0].tolist())\n",
      "        temp_input=temp_input[1:]\n",
      "        lst_output.extend(yhat.tolist())\n",
      "        i=i+1\n",
      "    else:\n",
      "        X_input=X_input.reshape((1,n_steps,1))\n",
      "        yhat=model.predict(X_input,verbose=0)\n",
      "        print(yhat[0])\n",
      "        temp_input.extend(yhat[0].tolist())\n",
      "        print(len(temp_input))\n",
      "        lst_output.extend(yhat.tolist())\n",
      "        i=i+1\n",
      "\n",
      "print(lst_output)\n",
      "day_new=np.arange(1,101)\n",
      "day_pred=np.arange(101,116)\n",
      "import matplotlib.pyplot as plt\n",
      "df2=df1.tolist()\n",
      "df2.extend(lst_output)\n",
      "plt.plot(day_new,scaler.inverse_transform(df1[1158:]))\n",
      "plt.plot(day_pred,scaler.inverse_transform(lst_output))\n",
      "plt.plot(day_new,scaler.inverse_transform(df1[1158:]))\n",
      "plt.plot(day_pred,scaler.inverse_transform(lst_output))\n",
      "history\n",
      "import pandas_datareader as pdr \n",
      "import pandas as pd\n",
      "df=pdr.get_data_tiingo('AAPL',api_key='3bf49d7c00d719c5151350b494f0a992eb31a7b8') ##利用pandas_data\n",
      "df.to_csv('AAPL.csv')\n",
      "df=pd.read_csv('AAPL.csv')\n",
      "df.head()\n",
      "df.tail()\n",
      "###################################第一部分########################################\n",
      "import pandas_datareader as pdr  #利用pandas_datareader库获取苹果公司的最新股票信息\n",
      "import pandas as pd              #利用pandas库将苹果公司的股票信息保存在EXCEL里面\n",
      "#调用股票市场工具ttingo的API，获取信息\n",
      "df=pdr.get_data_tiingo('AAPL',api_key='3bf49d7c00d719c5151350b494f0a992eb31a7b8') \n",
      "df.to_csv('AAPL.csv')   #转换为excel文件，保存\n",
      "df=pd.read_csv('AAPL.csv') #将对应的excel文件读取出来\n",
      "######################################################################################\n",
      "######################################################################################\n",
      "#测试代码，用以观测股票数据的规模和具体信息，便于接下来提取有用信息，进行训练\n",
      "df.head()\n",
      "df.tail()\n",
      "######################################################################################\n",
      "######################################################################################\n",
      "df1=df.reset_index()['close']      #提取【close】列，只选取该股票的闭盘价格进行LSTM训练\n",
      "######################################################################################\n",
      "######################################################################################\n",
      "#测试代码，用以观测待训练的数据\n",
      "df1.shape\n",
      "df1\n",
      "import matplotlib.pyplot as plt     #绘制苹果股票的闭盘价格图像，有一个直观的印象\n",
      "plt.plot(df1)\n",
      "### LSTM对数据的规模很敏感  我们需要对数据进行标准化处理————最小尺度\n",
      "from sklearn.preprocessing import MinMaxScaler\n",
      "import numpy as np\n",
      "scaler=MinMaxScaler(feature_range=(0,1))\n",
      "df1=scaler.fit_transform(np.array(df1).reshape(-1,1))\n",
      "df1.shape\n",
      "print(df1)\n",
      "###将数据集分为两部分，一部分是训练集（前3/4），另一部分是测试集（前1/4）\n",
      "training_size=int(len(df1)*0.75)\n",
      "test_size=len(df1)-training_size\n",
      "train_data,test_data=df1[0:training_size,:1],df1[training_size:len(df1),:1]\n",
      "len(train_data),len(test_data)\n",
      "import numpy\n",
      "#定义数据处理函数，将数组中的数据转变为待训练的数据矩阵\n",
      "def create_dataset(dataset,time_step=1):\n",
      "    dataX,dataY=[],[]\n",
      "    for i in range(len(dataset)-time_step-1):\n",
      "        a=dataset[i:(i+time_step),0]  #i=0 0,1,2,3\n",
      "        dataX.append(a)\n",
      "        dataY.append(dataset[i+time_step,0])\n",
      "    return numpy.array(dataX),numpy.array(dataY)\n",
      "time_step=100             ###用前100天的数据预测第101天的数据\n",
      "X_train,Y_train=create_dataset(train_data,time_step)\n",
      "X_test,Y_test=create_dataset(test_data,time_step)\n",
      "X_train.shape,Y_train.shape\n",
      "##将数据转换为LSTM模型所需要的input\n",
      "X_train=X_train.reshape(X_train.shape[0],X_train.shape[1],1)\n",
      "X_test=X_test.reshape(X_test.shape[0],X_test.shape[1],1)\n",
      "######################################################################################\n",
      "######################################################################################\n",
      "#创建LSTM模型，进行训练\n",
      "###创建LSTM模型\n",
      "from tensorflow.keras.models import Sequential\n",
      "from tensorflow.keras.layers import Dense\n",
      "from tensorflow.keras.layers import LSTM\n",
      "model=Sequential()    #使用keras中的Sequential序贯模型,构建3层lstm神经网络，与1层Dense层\n",
      "model.add(LSTM(50,return_sequences=True,input_shape=(100,1)))\n",
      "model.add(LSTM(100,return_sequences=True))\n",
      "model.add(LSTM(100,return_sequences=False))\n",
      "model.add(Dense(1))  #进行维度变换，将LSTM的输出转换为所需输出\n",
      "model.compile(loss='mean_squared_error',optimizer='adam')  #配置学习过程，定义loss函数为均方误差，并使用adam优化器对模型进行优化\n",
      "model.summary()   ##利用model()函数，直观的观察LSTM模型的架构\n",
      "model.fit(X_train,Y_train,validation_data=(X_test,Y_test),epochs=100,batch_size=64,verbose=1)  ##进行训练\n",
      "import tensorflow as tf\n",
      "tf.__version__\n",
      "###预测检验\n",
      "train_predict=model.predict(X_train)\n",
      "test_predict=model.predict(X_test)\n",
      "train_predict=scaler.inverse_transform(train_predict)\n",
      "test_predict=scaler.inverse_transform(test_predict)\n",
      "import math\n",
      "from sklearn.metrics import mean_squared_error\n",
      "math.sqrt(mean_squared_error(Y_train,train_predict))\n",
      "math.sqrt(mean_squared_error(Y_test,test_predict))\n",
      "###观察训练效果，原始的蓝色曲线是数据集，橙色曲线是训练集的训练效果展示，绿色曲线是测试集的训练效果展示\n",
      "look_back=100\n",
      "trainPredictPlot=np.empty_like(df1)\n",
      "trainPredictPlot[:,:]=np.nan\n",
      "trainPredictPlot[look_back:len(train_predict)+look_back,:]=train_predict\n",
      "\n",
      "testPredictPlot=np.empty_like(df1)\n",
      "testPredictPlot[:,:]=np.nan\n",
      "testPredictPlot[len(train_predict)+(look_back*2)+1:len(df1)-1,:]=test_predict\n",
      "\n",
      "plt.plot(scaler.inverse_transform(df1))\n",
      "plt.plot(trainPredictPlot)\n",
      "plt.plot(testPredictPlot)\n",
      "plt.show()\n",
      "len(test_data)\n",
      "X_input=test_data[215:].reshape(-1,1)\n",
      "X_input.shape\n",
      "temp_input=list(X_input)\n",
      "temp_input=temp_input[0].tolist()\n",
      "temp_input\n",
      "###预测未来15天的股票闭盘价格走势\n",
      "from numpy import array\n",
      "lst_output=[]\n",
      "n_steps=100\n",
      "i=0\n",
      "while(i<15):\n",
      "    if(len(temp_input)>100):\n",
      "        X_input=np.array(temp_input[1:])\n",
      "        print(\"{} day input {}\".format(i,X_input))\n",
      "        X_input=X_input.reshape(1,-1)\n",
      "        X_input=X_input.reshape((1,n_steps,1))\n",
      "        yhat=model.predict(X_input,verbose=0)\n",
      "        print(\"{} day output {}\".format(i,yhat))\n",
      "        temp_input.extend(yhat[0].tolist())\n",
      "        temp_input=temp_input[1:]\n",
      "        lst_output.extend(yhat.tolist())\n",
      "        i=i+1\n",
      "    else:\n",
      "        X_input=X_input.reshape((1,n_steps,1))\n",
      "        yhat=model.predict(X_input,verbose=0)\n",
      "        print(yhat[0])\n",
      "        temp_input.extend(yhat[0].tolist())\n",
      "        print(len(temp_input))\n",
      "        lst_output.extend(yhat.tolist())\n",
      "        i=i+1\n",
      "\n",
      "print(lst_output)\n",
      "day_new=np.arange(1,101)\n",
      "day_pred=np.arange(101,116)\n",
      "import matplotlib.pyplot as plt\n",
      "df2=df1.tolist()\n",
      "df2.extend(lst_output)\n",
      "plt.plot(day_new,scaler.inverse_transform(df1[1158:]))\n",
      "plt.plot(day_pred,scaler.inverse_transform(lst_output))\n",
      "history\n"
     ]
    }
   ],
   "source": [
    "history\n"
   ]
  },
  {
   "cell_type": "code",
   "execution_count": null,
   "metadata": {},
   "outputs": [],
   "source": []
  }
 ],
 "metadata": {
  "kernelspec": {
   "display_name": "Python 3",
   "language": "python",
   "name": "python3"
  },
  "language_info": {
   "codemirror_mode": {
    "name": "ipython",
    "version": 3
   },
   "file_extension": ".py",
   "mimetype": "text/x-python",
   "name": "python",
   "nbconvert_exporter": "python",
   "pygments_lexer": "ipython3",
   "version": "3.6.12"
  }
 },
 "nbformat": 4,
 "nbformat_minor": 4
}
